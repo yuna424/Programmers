{
 "cells": [
  {
   "cell_type": "code",
   "execution_count": 36,
   "metadata": {},
   "outputs": [],
   "source": [
    "bridge_length = 2\n",
    "weight = 10\n",
    "truck_weights = [7,4,5,6]\n",
    "bridge = [0]*bridge_length"
   ]
  },
  {
   "cell_type": "code",
   "execution_count": 37,
   "metadata": {},
   "outputs": [
    {
     "data": {
      "text/plain": [
       "6"
      ]
     },
     "execution_count": 37,
     "metadata": {},
     "output_type": "execute_result"
    }
   ],
   "source": [
    "truck_weights[-1]"
   ]
  },
  {
   "cell_type": "code",
   "execution_count": 8,
   "metadata": {},
   "outputs": [
    {
     "data": {
      "text/plain": [
       "0"
      ]
     },
     "execution_count": 8,
     "metadata": {},
     "output_type": "execute_result"
    }
   ],
   "source": [
    "bridge = [0,0]\n",
    "sum(bridge)"
   ]
  },
  {
   "cell_type": "code",
   "execution_count": 92,
   "metadata": {},
   "outputs": [
    {
     "name": "stdout",
     "output_type": "stream",
     "text": [
      "* [0, 7] 4 5\n",
      "** [7, 0] 4 5\n",
      "* [0, 4] 5 6\n",
      "* [4, 5] 6 0\n",
      "** [5, 0] 6 0\n",
      "*** [0, 6] 6\n",
      "* [0, 6] 0 0\n",
      "*** [6, 0] 6\n",
      "* [6, 0] 0 0\n",
      "8\n"
     ]
    }
   ],
   "source": [
    "bridge_length = 2\n",
    "weight = 10\n",
    "truck_weights = [7,4,5,6]\n",
    "last_truck = truck_weights[-1]\n",
    "bridge = [0]*bridge_length\n",
    "\n",
    "cnt = 0\n",
    "answer = 1\n",
    "\n",
    "pts_truck = truck_weights.pop(0)\n",
    "nxt_truck = truck_weights.pop(0)\n",
    "while(True) :\n",
    "    answer += 1\n",
    "    bridge.pop(0)\n",
    "    if sum(bridge) + pts_truck <= weight :\n",
    "        bridge.append(pts_truck)\n",
    "        pts_truck = nxt_truck\n",
    "        if len(truck_weights) != 0 :\n",
    "            nxt_truck = truck_weights.pop(0)\n",
    "        elif nxt_truck != 0 :\n",
    "            last_truck = nxt_truck\n",
    "#             print(last_truck)\n",
    "            nxt_truck = 0\n",
    "        else :\n",
    "            if last_truck in bridge :\n",
    "                cnt += 1\n",
    "                print('***', bridge,last_truck)\n",
    "        print('*', bridge,pts_truck, nxt_truck)\n",
    "    else : \n",
    "        bridge.append(0)       \n",
    "        print('**',bridge, pts_truck, nxt_truck)\n",
    "    if cnt == bridge_length:\n",
    "        break\n",
    "print(answer)"
   ]
  },
  {
   "cell_type": "code",
   "execution_count": 94,
   "metadata": {},
   "outputs": [
    {
     "name": "stdout",
     "output_type": "stream",
     "text": [
      "110\n"
     ]
    }
   ],
   "source": [
    "bridge_length = 100\n",
    "weight = 100\n",
    "truck_weights = [10]*10\n",
    "last_truck = truck_weights[-1]\n",
    "bridge = [0]*bridge_length\n",
    "\n",
    "cnt = 0\n",
    "answer = 1\n",
    "\n",
    "pts_truck = truck_weights.pop(0)\n",
    "if len(truck_weights) != 0 :\n",
    "    nxt_truck = truck_weights.pop(0)\n",
    "else :\n",
    "    nxt_truck = 0\n",
    "    \n",
    "while(True) :\n",
    "    answer += 1\n",
    "    bridge.pop(0)\n",
    "    if sum(bridge) + pts_truck <= weight :\n",
    "        bridge.append(pts_truck)\n",
    "        pts_truck = nxt_truck\n",
    "        if len(truck_weights) != 0 :\n",
    "            nxt_truck = truck_weights.pop(0)\n",
    "        elif nxt_truck != 0 :\n",
    "            last_truck = nxt_truck\n",
    "            nxt_truck = 0\n",
    "        else :\n",
    "            if last_truck in bridge :\n",
    "                cnt += 1\n",
    "#         print('*', bridge,pts_truck, nxt_truck)\n",
    "    else : \n",
    "        bridge.append(0)       \n",
    "#         print('**',bridge, pts_truck, nxt_truck)\n",
    "    if cnt == bridge_length:\n",
    "        break\n",
    "print(answer)"
   ]
  },
  {
   "cell_type": "code",
   "execution_count": null,
   "metadata": {},
   "outputs": [],
   "source": [
    "def solution(bridge_length, weight, truck_weights) :\n",
    "    last_truck = truck_weights[-1]\n",
    "    bridge = [0]*bridge_length\n",
    "\n",
    "    cnt = 0\n",
    "    answer = 1\n",
    "\n",
    "    pts_truck = truck_weights.pop(0)\n",
    "    if len(truck_weights) != 0 :\n",
    "        nxt_truck = truck_weights.pop(0)\n",
    "    else :\n",
    "        nxt_truck = 0\n",
    "\n",
    "    while(True) :\n",
    "        answer += 1\n",
    "        bridge.pop(0)\n",
    "        if sum(bridge) + pts_truck <= weight :\n",
    "            bridge.append(pts_truck)\n",
    "            pts_truck = nxt_truck\n",
    "            if len(truck_weights) != 0 :\n",
    "                nxt_truck = truck_weights.pop(0)\n",
    "            elif nxt_truck != 0 :\n",
    "                last_truck = nxt_truck\n",
    "                nxt_truck = 0\n",
    "            else :\n",
    "                if last_truck in bridge :\n",
    "                    cnt += 1\n",
    "        else : \n",
    "            bridge.append(0)       \n",
    "        if cnt == bridge_length:\n",
    "            break\n",
    "            \n",
    "    return answer"
   ]
  },
  {
   "cell_type": "code",
   "execution_count": 27,
   "metadata": {},
   "outputs": [
    {
     "data": {
      "text/plain": [
       "7"
      ]
     },
     "execution_count": 27,
     "metadata": {},
     "output_type": "execute_result"
    }
   ],
   "source": [
    "truck_weights.pop(0)"
   ]
  },
  {
   "cell_type": "code",
   "execution_count": 28,
   "metadata": {},
   "outputs": [
    {
     "data": {
      "text/plain": [
       "4"
      ]
     },
     "execution_count": 28,
     "metadata": {},
     "output_type": "execute_result"
    }
   ],
   "source": [
    "truck_weights.pop(0)"
   ]
  },
  {
   "cell_type": "code",
   "execution_count": 75,
   "metadata": {},
   "outputs": [
    {
     "name": "stdout",
     "output_type": "stream",
     "text": [
      "if\n",
      "1 [7] pts_truck : 4 / nxt_truck :  5\n",
      "2 [7] pts_truck : 4 / nxt_truck :  5\n",
      "if\n",
      "1 [4] pts_truck : 5 / nxt_truck :  0\n",
      "if\n",
      "2 [4, 5] pts_truck : 0 / nxt_truck :  0\n"
     ]
    }
   ],
   "source": [
    "bridge_length = 2\n",
    "weight = 10\n",
    "truck_weights = [7,4,5,6]\n",
    "bridge = []\n",
    "pts_truck = truck_weights[0]\n",
    "nxt_truck = truck_weights[1]\n",
    "for i in range(1,len(truck_weights)-1) :\n",
    "    time = 0    \n",
    "    while(time < 2):\n",
    "        time+=1\n",
    "        if sum(bridge) + pts_truck <= weight :\n",
    "            bridge.append(pts_truck)\n",
    "            if i != len(truck_weights) - 2 : \n",
    "                pts_truck = nxt_truck \n",
    "                nxt_truck = truck_weights[i+1]\n",
    "            else : \n",
    "                pts_truck = nxt_truck\n",
    "                nxt_truck = 0\n",
    "            print('if')\n",
    "        print(time, bridge, 'pts_truck :', pts_truck, '/ nxt_truck : ', nxt_truck )\n",
    "        \n",
    "        if time == 2:\n",
    "            bridge.pop(0)\n",
    "\n",
    "#     print(time, bridge, pts_truck, nxt_truck)\n",
    "    \n",
    "        "
   ]
  },
  {
   "cell_type": "code",
   "execution_count": null,
   "metadata": {},
   "outputs": [],
   "source": []
  }
 ],
 "metadata": {
  "kernelspec": {
   "display_name": "Python 3",
   "language": "python",
   "name": "python3"
  },
  "language_info": {
   "codemirror_mode": {
    "name": "ipython",
    "version": 3
   },
   "file_extension": ".py",
   "mimetype": "text/x-python",
   "name": "python",
   "nbconvert_exporter": "python",
   "pygments_lexer": "ipython3",
   "version": "3.8.3"
  }
 },
 "nbformat": 4,
 "nbformat_minor": 4
}
